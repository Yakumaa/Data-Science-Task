{
 "cells": [
  {
   "cell_type": "markdown",
   "metadata": {},
   "source": [
    "### SECTION C- Task Detail: Data Preparation"
   ]
  },
  {
   "cell_type": "markdown",
   "metadata": {},
   "source": [
    "#### Load Data"
   ]
  },
  {
   "cell_type": "code",
   "execution_count": 92,
   "metadata": {},
   "outputs": [],
   "source": [
    "import sqlite3\n",
    "import pandas as pd\n",
    "\n",
    "# Connect to database\n",
    "conn = sqlite3.connect('queue_system_sqlite3.db')\n",
    "\n",
    "#load data into dataframe\n",
    "calls = pd.read_sql_query(\"SELECT * FROM calls\", conn)\n",
    "queues = pd.read_sql_query(\"SELECT * FROM queues\", conn)\n",
    "services = pd.read_sql_query(\"SELECT * FROM services\", conn)\n",
    "counters = pd.read_sql_query(\"SELECT * FROM counters\", conn)\n",
    "users = pd.read_sql_query(\"SELECT * FROM users\", conn)\n",
    "\n",
    "# Close the connection\n",
    "conn.close()"
   ]
  },
  {
   "cell_type": "markdown",
   "metadata": {},
   "source": [
    "#### Check for missing values"
   ]
  },
  {
   "cell_type": "code",
   "execution_count": 93,
   "metadata": {},
   "outputs": [
    {
     "name": "stdout",
     "output_type": "stream",
     "text": [
      "Missing values in calls:\n",
      " id                    0\n",
      "queue_id              0\n",
      "service_id            0\n",
      "counter_id            0\n",
      "user_id               0\n",
      "token_letter          0\n",
      "token_number          0\n",
      "called_date           0\n",
      "started_at            0\n",
      "ended_at             19\n",
      "waiting_time          0\n",
      "served_time         617\n",
      "turn_around_time    617\n",
      "created_at            0\n",
      "updated_at            0\n",
      "call_status_id       19\n",
      "dtype: int64\n",
      "Missing values in queues:\n",
      " id                 0\n",
      "service_id         0\n",
      "number             0\n",
      "called             0\n",
      "reference_no       0\n",
      "letter             0\n",
      "name            3374\n",
      "email           3374\n",
      "phone           3374\n",
      "position           0\n",
      "created_at         0\n",
      "updated_at         0\n",
      "dtype: int64\n",
      "Missing values in services:\n",
      " id                           0\n",
      "name                         0\n",
      "letter                       0\n",
      "start_number                 0\n",
      "status                       0\n",
      "sms_enabled                  0\n",
      "optin_message_enabled        0\n",
      "call_message_enabled         0\n",
      "noshow_message_enabled       0\n",
      "completed_message_enabled    0\n",
      "status_message_enabled       0\n",
      "optin_message_format         3\n",
      "call_message_format          3\n",
      "noshow_message_format        3\n",
      "completed_message_format     3\n",
      "status_message_format        3\n",
      "status_message_positions     3\n",
      "ask_name                     0\n",
      "name_required                0\n",
      "ask_email                    0\n",
      "email_required               0\n",
      "ask_phone                    0\n",
      "phone_required               0\n",
      "created_at                   0\n",
      "updated_at                   0\n",
      "dtype: int64\n",
      "Missing values in counters:\n",
      " id            0\n",
      "name          0\n",
      "status        0\n",
      "created_at    0\n",
      "updated_at    0\n",
      "dtype: int64\n",
      "Missing values in users:\n",
      " id                    0\n",
      "name                  0\n",
      "email                 0\n",
      "email_verified_at    15\n",
      "password              0\n",
      "remember_token       15\n",
      "created_at            0\n",
      "updated_at            0\n",
      "image                12\n",
      "dtype: int64\n"
     ]
    }
   ],
   "source": [
    "# Check for missing values\n",
    "print(\"Missing values in calls:\\n\", calls.isnull().sum())\n",
    "print(\"Missing values in queues:\\n\", queues.isnull().sum())\n",
    "print(\"Missing values in services:\\n\", services.isnull().sum())\n",
    "print(\"Missing values in counters:\\n\", counters.isnull().sum())\n",
    "print(\"Missing values in users:\\n\", users.isnull().sum())"
   ]
  },
  {
   "cell_type": "markdown",
   "metadata": {},
   "source": [
    "#### Clean and preprocess calls DataFrame"
   ]
  },
  {
   "cell_type": "code",
   "execution_count": 94,
   "metadata": {},
   "outputs": [],
   "source": [
    "#handle missing values\n",
    "calls_with_na_dropped = calls.dropna()\n",
    "#remove duplicate values\n",
    "calls_with_duplicates_dropped = calls_with_na_dropped.drop_duplicates()\n",
    "cleaned_calls = calls_with_duplicates_dropped"
   ]
  },
  {
   "cell_type": "code",
   "execution_count": 95,
   "metadata": {},
   "outputs": [
    {
     "name": "stdout",
     "output_type": "stream",
     "text": [
      "Before na drop: 3354\n",
      "After na dropped: 2737\n",
      "After duplicates and na dropped: 2737\n"
     ]
    }
   ],
   "source": [
    "print(\"Before na drop: %d\" % len(calls))\n",
    "print(\"After na dropped: %d\" % len(calls_with_na_dropped))\n",
    "print(\"After duplicates and na dropped: %d\" % len(calls_with_duplicates_dropped))"
   ]
  },
  {
   "cell_type": "markdown",
   "metadata": {},
   "source": [
    "#### Clean and preprocess queues DataFrame"
   ]
  },
  {
   "cell_type": "code",
   "execution_count": 96,
   "metadata": {},
   "outputs": [],
   "source": [
    "#handle missing values\n",
    "queues_with_na_dropped = queues.dropna(axis=1)\n",
    "#remove duplicate values\n",
    "queues_with_duplicates_dropped = queues_with_na_dropped.drop_duplicates()\n",
    "cleaned_queues = queues_with_duplicates_dropped"
   ]
  },
  {
   "cell_type": "code",
   "execution_count": 97,
   "metadata": {},
   "outputs": [
    {
     "name": "stdout",
     "output_type": "stream",
     "text": [
      "Before na drop: 3374\n",
      "After na dropped: 3374\n",
      "After duplicates and na dropped: 3374\n"
     ]
    }
   ],
   "source": [
    "print(\"Before na drop: %d\" % len(queues))\n",
    "print(\"After na dropped: %d\" % len(queues_with_na_dropped))\n",
    "print(\"After duplicates and na dropped: %d\" % len(queues_with_duplicates_dropped))"
   ]
  },
  {
   "cell_type": "markdown",
   "metadata": {},
   "source": [
    "#### Clean and preprocess services DataFrame"
   ]
  },
  {
   "cell_type": "code",
   "execution_count": 98,
   "metadata": {},
   "outputs": [],
   "source": [
    "#handle missing values\n",
    "services_with_na_dropped = services.dropna(axis=1)\n",
    "#remove duplicate values\n",
    "services_with_duplicates_dropped = services_with_na_dropped.drop_duplicates()\n",
    "cleaned_services = services_with_duplicates_dropped"
   ]
  },
  {
   "cell_type": "code",
   "execution_count": 99,
   "metadata": {},
   "outputs": [
    {
     "name": "stdout",
     "output_type": "stream",
     "text": [
      "Before na drop: 3\n",
      "After na dropped: 3\n",
      "After duplicates and na dropped: 3\n"
     ]
    }
   ],
   "source": [
    "print(\"Before na drop: %d\" % len(services))\n",
    "print(\"After na dropped: %d\" % len(services_with_na_dropped))\n",
    "print(\"After duplicates and na dropped: %d\" % len(services_with_duplicates_dropped))"
   ]
  },
  {
   "cell_type": "markdown",
   "metadata": {},
   "source": [
    "#### Clean and preprocess counters DataFrame"
   ]
  },
  {
   "cell_type": "code",
   "execution_count": 100,
   "metadata": {},
   "outputs": [],
   "source": [
    "#handle missing values\n",
    "counters_with_na_dropped = counters.dropna(axis=1)\n",
    "#remove duplicate values\n",
    "counters_with_duplicates_dropped = counters_with_na_dropped.drop_duplicates()\n",
    "cleaned_counters = counters_with_duplicates_dropped"
   ]
  },
  {
   "cell_type": "code",
   "execution_count": 101,
   "metadata": {},
   "outputs": [
    {
     "name": "stdout",
     "output_type": "stream",
     "text": [
      "Before na drop: 10\n",
      "After na dropped: 10\n",
      "After duplicates and na dropped: 10\n"
     ]
    }
   ],
   "source": [
    "print(\"Before na drop: %d\" % len(counters))\n",
    "print(\"After na dropped: %d\" % len(counters_with_na_dropped))\n",
    "print(\"After duplicates and na dropped: %d\" % len(counters_with_duplicates_dropped))"
   ]
  },
  {
   "cell_type": "markdown",
   "metadata": {},
   "source": [
    "#### Clean and preprocess users DataFrame"
   ]
  },
  {
   "cell_type": "code",
   "execution_count": 102,
   "metadata": {},
   "outputs": [],
   "source": [
    "#handle missing values\n",
    "users_with_na_dropped = users.dropna(axis=1)\n",
    "#remove duplicate values\n",
    "users_with_duplicates_dropped = users_with_na_dropped.drop_duplicates()\n",
    "cleaned_users = users_with_duplicates_dropped"
   ]
  },
  {
   "cell_type": "code",
   "execution_count": 103,
   "metadata": {},
   "outputs": [
    {
     "name": "stdout",
     "output_type": "stream",
     "text": [
      "Before na drop: 15\n",
      "After na dropped: 15\n",
      "After duplicates and na dropped: 15\n"
     ]
    }
   ],
   "source": [
    "print(\"Before na drop: %d\" % len(users))\n",
    "print(\"After na dropped: %d\" % len(users_with_na_dropped))\n",
    "print(\"After duplicates and na dropped: %d\" % len(users_with_duplicates_dropped))"
   ]
  },
  {
   "cell_type": "markdown",
   "metadata": {},
   "source": [
    "#### Save cleaned data"
   ]
  },
  {
   "cell_type": "code",
   "execution_count": 104,
   "metadata": {},
   "outputs": [
    {
     "name": "stdout",
     "output_type": "stream",
     "text": [
      "Data cleaning and preprocessing completed. Cleaned data saved to 'cleaned_database.db'\n"
     ]
    }
   ],
   "source": [
    "conn_cleaned = sqlite3.connect('cleaned_database.db')\n",
    "\n",
    "cleaned_calls.to_sql('calls', conn_cleaned, if_exists='replace', index=False)\n",
    "cleaned_queues.to_sql('queues', conn_cleaned, if_exists='replace', index=False)\n",
    "cleaned_services.to_sql('services', conn_cleaned, if_exists='replace', index=False)\n",
    "cleaned_counters.to_sql('counters', conn_cleaned, if_exists='replace', index=False)\n",
    "cleaned_users.to_sql('users', conn_cleaned, if_exists='replace', index=False)\n",
    "\n",
    "conn_cleaned.close()\n",
    "\n",
    "print(\"Data cleaning and preprocessing completed. Cleaned data saved to 'cleaned_database.db'\")"
   ]
  }
 ],
 "metadata": {
  "kernelspec": {
   "display_name": "Python 3",
   "language": "python",
   "name": "python3"
  },
  "language_info": {
   "codemirror_mode": {
    "name": "ipython",
    "version": 3
   },
   "file_extension": ".py",
   "mimetype": "text/x-python",
   "name": "python",
   "nbconvert_exporter": "python",
   "pygments_lexer": "ipython3",
   "version": "3.11.0"
  }
 },
 "nbformat": 4,
 "nbformat_minor": 2
}
