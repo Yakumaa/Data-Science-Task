{
 "cells": [
  {
   "cell_type": "markdown",
   "metadata": {},
   "source": [
    "### SECTION C- Task Detail: Descriptive Statistics"
   ]
  },
  {
   "cell_type": "markdown",
   "metadata": {},
   "source": [
    "#### Load Data"
   ]
  },
  {
   "cell_type": "code",
   "execution_count": 12,
   "metadata": {},
   "outputs": [],
   "source": [
    "import pandas as pd\n",
    "import sqlite3\n",
    "\n",
    "# Connect to database\n",
    "# conn = sqlite3.connect('queue_system_sqlite3.db')\n",
    "conn = sqlite3.connect('cleaned_database.db')\n",
    "\n",
    "#load data into dataframe\n",
    "calls = pd.read_sql_query(\"SELECT * FROM calls\", conn)\n",
    "queues = pd.read_sql_query(\"SELECT * FROM queues\", conn)\n",
    "\n",
    "# Close the connection\n",
    "conn.close()"
   ]
  },
  {
   "cell_type": "markdown",
   "metadata": {},
   "source": [
    "#### Calculate Key metrics"
   ]
  },
  {
   "cell_type": "code",
   "execution_count": 13,
   "metadata": {},
   "outputs": [
    {
     "data": {
      "text/html": [
       "<div>\n",
       "<style scoped>\n",
       "    .dataframe tbody tr th:only-of-type {\n",
       "        vertical-align: middle;\n",
       "    }\n",
       "\n",
       "    .dataframe tbody tr th {\n",
       "        vertical-align: top;\n",
       "    }\n",
       "\n",
       "    .dataframe thead th {\n",
       "        text-align: right;\n",
       "    }\n",
       "</style>\n",
       "<table border=\"1\" class=\"dataframe\">\n",
       "  <thead>\n",
       "    <tr style=\"text-align: right;\">\n",
       "      <th></th>\n",
       "      <th>queue_id</th>\n",
       "      <th>waiting_time</th>\n",
       "      <th>service_time</th>\n",
       "      <th>turn_around_time</th>\n",
       "    </tr>\n",
       "  </thead>\n",
       "  <tbody>\n",
       "    <tr>\n",
       "      <th>0</th>\n",
       "      <td>45</td>\n",
       "      <td>873.0</td>\n",
       "      <td>13.0</td>\n",
       "      <td>886.0</td>\n",
       "    </tr>\n",
       "    <tr>\n",
       "      <th>1</th>\n",
       "      <td>46</td>\n",
       "      <td>819.0</td>\n",
       "      <td>8.0</td>\n",
       "      <td>827.0</td>\n",
       "    </tr>\n",
       "    <tr>\n",
       "      <th>2</th>\n",
       "      <td>47</td>\n",
       "      <td>617.0</td>\n",
       "      <td>4.0</td>\n",
       "      <td>621.0</td>\n",
       "    </tr>\n",
       "    <tr>\n",
       "      <th>3</th>\n",
       "      <td>50</td>\n",
       "      <td>29.0</td>\n",
       "      <td>62.0</td>\n",
       "      <td>91.0</td>\n",
       "    </tr>\n",
       "    <tr>\n",
       "      <th>4</th>\n",
       "      <td>51</td>\n",
       "      <td>1997.0</td>\n",
       "      <td>6.0</td>\n",
       "      <td>2003.0</td>\n",
       "    </tr>\n",
       "  </tbody>\n",
       "</table>\n",
       "</div>"
      ],
      "text/plain": [
       "   queue_id  waiting_time  service_time  turn_around_time\n",
       "0        45         873.0          13.0             886.0\n",
       "1        46         819.0           8.0             827.0\n",
       "2        47         617.0           4.0             621.0\n",
       "3        50          29.0          62.0              91.0\n",
       "4        51        1997.0           6.0            2003.0"
      ]
     },
     "execution_count": 13,
     "metadata": {},
     "output_type": "execute_result"
    }
   ],
   "source": [
    "# Merge calls and queues on queue_id to calculate metrics\n",
    "calls_queues = pd.merge(calls, queues, left_on='queue_id', right_on='id', suffixes=('_call', '_queue'))\n",
    "\n",
    "# Ensure datetime columns are in the correct format\n",
    "calls_queues['created_at_call'] = pd.to_datetime(calls_queues['created_at_call'])\n",
    "calls_queues['updated_at_call'] = pd.to_datetime(calls_queues['updated_at_call'])\n",
    "calls_queues['created_at_queue'] = pd.to_datetime(calls_queues['created_at_queue'])\n",
    "\n",
    "# Calculate waiting time, service time and turn-around time\n",
    "calls_queues['waiting_time'] = (calls_queues['created_at_call'] - calls_queues['created_at_queue']).dt.total_seconds()\n",
    "calls_queues['service_time'] = (calls_queues['updated_at_call'] - calls_queues['created_at_call']).dt.total_seconds()\n",
    "calls_queues['turn_around_time'] = (calls_queues['updated_at_call'] - calls_queues['created_at_queue']).dt.total_seconds()\n",
    "\n",
    "calls_queues[['queue_id', 'waiting_time', 'service_time', 'turn_around_time']].head()"
   ]
  },
  {
   "cell_type": "markdown",
   "metadata": {},
   "source": [
    "#### Calculate Statistics"
   ]
  },
  {
   "cell_type": "code",
   "execution_count": 14,
   "metadata": {},
   "outputs": [
    {
     "name": "stdout",
     "output_type": "stream",
     "text": [
      "Descriptive Statistics:\n",
      "\n",
      "Waiting_time:\n",
      "  Mean: 4174.621848739495\n",
      "  Median: 3688.0000000000005\n",
      "  Standard Deviation: 2952.797983092017\n",
      "\n",
      "Service_time:\n",
      "  Mean: 697.4468396054074\n",
      "  Median: 637.0\n",
      "  Standard Deviation: 635.9298685412648\n",
      "\n",
      "Turn_around_time:\n",
      "  Mean: 4872.068688344903\n",
      "  Median: 4363.0\n",
      "  Standard Deviation: 3066.2194361320758\n"
     ]
    }
   ],
   "source": [
    "# Calculate descriptive statistics for waiting time, service time, and turn-around time\n",
    "descriptive_stats = {\n",
    "    'waiting_time': {\n",
    "        'mean': calls_queues['waiting_time'].mean(),\n",
    "        'median': calls_queues['waiting_time'].median(),\n",
    "        'std': calls_queues['waiting_time'].std()\n",
    "    },\n",
    "    'service_time': {\n",
    "        'mean': calls_queues['service_time'].mean(),\n",
    "        'median': calls_queues['service_time'].median(),\n",
    "        'std': calls_queues['service_time'].std()\n",
    "    },\n",
    "    'turn_around_time': {\n",
    "        'mean': calls_queues['turn_around_time'].mean(),\n",
    "        'median': calls_queues['turn_around_time'].median(),\n",
    "        'std': calls_queues['turn_around_time'].std()\n",
    "    }\n",
    "}\n",
    "\n",
    "# Display the descriptive statistics\n",
    "print(\"Descriptive Statistics:\")\n",
    "for metric, stats in descriptive_stats.items():\n",
    "    print(f\"\\n{metric.capitalize()}:\")\n",
    "    print(f\"  Mean: {stats['mean']}\")\n",
    "    print(f\"  Median: {stats['median']}\")\n",
    "    print(f\"  Standard Deviation: {stats['std']}\")\n"
   ]
  }
 ],
 "metadata": {
  "kernelspec": {
   "display_name": "Python 3",
   "language": "python",
   "name": "python3"
  },
  "language_info": {
   "codemirror_mode": {
    "name": "ipython",
    "version": 3
   },
   "file_extension": ".py",
   "mimetype": "text/x-python",
   "name": "python",
   "nbconvert_exporter": "python",
   "pygments_lexer": "ipython3",
   "version": "3.11.0"
  }
 },
 "nbformat": 4,
 "nbformat_minor": 2
}
